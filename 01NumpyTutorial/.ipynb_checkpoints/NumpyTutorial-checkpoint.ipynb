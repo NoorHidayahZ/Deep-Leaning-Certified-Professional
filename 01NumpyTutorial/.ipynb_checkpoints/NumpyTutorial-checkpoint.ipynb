{
 "cells": [
  {
   "cell_type": "code",
   "execution_count": 1,
   "id": "b65b0665-3961-4552-937b-9d7a831f926b",
   "metadata": {},
   "outputs": [],
   "source": [
    "import numpy as np"
   ]
  },
  {
   "cell_type": "code",
   "execution_count": 2,
   "id": "8a1e81c4-5b78-4741-b59a-df3b40727680",
   "metadata": {},
   "outputs": [
    {
     "data": {
      "text/plain": [
       "[1, 2, 3]"
      ]
     },
     "execution_count": 2,
     "metadata": {},
     "output_type": "execute_result"
    }
   ],
   "source": [
    "my_list = [1, 2, 3]\n",
    "my_list"
   ]
  },
  {
   "cell_type": "code",
   "execution_count": 3,
   "id": "aa91a5d7-9fb8-4739-a50f-ef2e53c65957",
   "metadata": {},
   "outputs": [
    {
     "data": {
      "text/plain": [
       "array([1, 2, 3])"
      ]
     },
     "execution_count": 3,
     "metadata": {},
     "output_type": "execute_result"
    }
   ],
   "source": [
    "my_array = np.array(my_list)\n",
    "my_array"
   ]
  },
  {
   "cell_type": "code",
   "execution_count": 4,
   "id": "1fe88686-fa07-47bd-8ba0-349e317f8407",
   "metadata": {},
   "outputs": [
    {
     "data": {
      "text/plain": [
       "[[1, 2, 3], [4, 5, 6], [7, 8, 9]]"
      ]
     },
     "execution_count": 4,
     "metadata": {},
     "output_type": "execute_result"
    }
   ],
   "source": [
    "my_list_matrix = [[1,2,3], [4,5,6], [7,8,9]]\n",
    "my_list_matrix"
   ]
  },
  {
   "cell_type": "code",
   "execution_count": 5,
   "id": "c7191511-efe5-40fb-b1c7-8459c9a64bc7",
   "metadata": {},
   "outputs": [
    {
     "data": {
      "text/plain": [
       "array([[1, 2, 3],\n",
       "       [4, 5, 6],\n",
       "       [7, 8, 9]])"
      ]
     },
     "execution_count": 5,
     "metadata": {},
     "output_type": "execute_result"
    }
   ],
   "source": [
    "my_matrix = np.array(my_list_matrix)\n",
    "my_matrix"
   ]
  },
  {
   "cell_type": "code",
   "execution_count": 7,
   "id": "dea286ce-73c4-453d-8a5c-bbc8687bb528",
   "metadata": {},
   "outputs": [
    {
     "data": {
      "text/plain": [
       "array([0, 1, 2, 3, 4, 5, 6, 7, 8, 9])"
      ]
     },
     "execution_count": 7,
     "metadata": {},
     "output_type": "execute_result"
    }
   ],
   "source": [
    "# there is an another method called arange\n",
    "# the arange method takes 2 arguments (values are separated by comma)\n",
    "np.arange(0,10) # start index (inlcuded) and end index (not included)"
   ]
  },
  {
   "cell_type": "code",
   "execution_count": 10,
   "id": "03d42307-4442-4380-b951-a986a18b245d",
   "metadata": {},
   "outputs": [
    {
     "data": {
      "text/plain": [
       "array([[0., 0., 0., 0.],\n",
       "       [0., 0., 0., 0.],\n",
       "       [0., 0., 0., 0.],\n",
       "       [0., 0., 0., 0.]])"
      ]
     },
     "execution_count": 10,
     "metadata": {},
     "output_type": "execute_result"
    }
   ],
   "source": [
    "np.zeros((4, 4)) # the zeros method takes single argument (cannot pass more than one value)"
   ]
  },
  {
   "cell_type": "code",
   "execution_count": 11,
   "id": "825d3049-e9b8-4207-a405-47301aca6d8b",
   "metadata": {},
   "outputs": [
    {
     "data": {
      "text/plain": [
       "array([[1., 1., 1., 1.],\n",
       "       [1., 1., 1., 1.],\n",
       "       [1., 1., 1., 1.],\n",
       "       [1., 1., 1., 1.]])"
      ]
     },
     "execution_count": 11,
     "metadata": {},
     "output_type": "execute_result"
    }
   ],
   "source": [
    "# we cannot pass more than one value, since the method takes single argument\n",
    "# however we need to pass more than one values (row, column)\n",
    "# we put the 2 alues inside a tuple (is another data structre that use () as enclosing characters\n",
    "# tuple is actually a readonly list\n",
    "# eventually it becomes a sigle argument to the zeros method\n",
    "np.ones((4, 4))"
   ]
  },
  {
   "cell_type": "code",
   "execution_count": 12,
   "id": "9235a713-0497-4faa-a5ed-87b26147c41e",
   "metadata": {},
   "outputs": [
    {
     "data": {
      "text/plain": [
       "array([[2.3, 2.3, 2.3, 2.3],\n",
       "       [2.3, 2.3, 2.3, 2.3],\n",
       "       [2.3, 2.3, 2.3, 2.3],\n",
       "       [2.3, 2.3, 2.3, 2.3]])"
      ]
     },
     "execution_count": 12,
     "metadata": {},
     "output_type": "execute_result"
    }
   ],
   "source": [
    "np.ones((4, 4)) * 2.3 #matrix multiplication with scalar value"
   ]
  },
  {
   "cell_type": "code",
   "execution_count": 13,
   "id": "2eaec074-1a92-4884-bb19-8478b9746814",
   "metadata": {},
   "outputs": [
    {
     "data": {
      "text/plain": [
       "array([[1., 0., 0., 0.],\n",
       "       [0., 1., 0., 0.],\n",
       "       [0., 0., 1., 0.],\n",
       "       [0., 0., 0., 1.]])"
      ]
     },
     "execution_count": 13,
     "metadata": {},
     "output_type": "execute_result"
    }
   ],
   "source": [
    "np.eye(4) # 4x4 matrix (identity matrix are always square matrix)"
   ]
  },
  {
   "cell_type": "code",
   "execution_count": null,
   "id": "18b45e9b-23fb-466d-bfa3-e8b1f1d97bc7",
   "metadata": {},
   "outputs": [],
   "source": []
  }
 ],
 "metadata": {
  "kernelspec": {
   "display_name": "Python 3 (ipykernel)",
   "language": "python",
   "name": "python3"
  },
  "language_info": {
   "codemirror_mode": {
    "name": "ipython",
    "version": 3
   },
   "file_extension": ".py",
   "mimetype": "text/x-python",
   "name": "python",
   "nbconvert_exporter": "python",
   "pygments_lexer": "ipython3",
   "version": "3.11.4"
  }
 },
 "nbformat": 4,
 "nbformat_minor": 5
}
