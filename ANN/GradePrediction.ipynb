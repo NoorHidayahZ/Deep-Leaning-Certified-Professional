{
 "cells": [
  {
   "cell_type": "code",
   "execution_count": null,
   "metadata": {},
   "outputs": [],
   "source": [
    "import numpy as np\n",
    "import pandas as pd\n",
    "from sklearn.model_selection import train_test_split\n",
    "from sklearn.preprocessing import MinMaxScaler\n",
    "from tensorflow import keras\n",
    "from tensorflow.keras import layers\n",
    "\n",
    "# Generate synthetic student data\n",
    "np.random.seed(42)\n",
    "num_students = 300\n",
    "\n",
    "test_scores = np.random.randint(40, 100, num_students)\n",
    "homework_scores = np.random.randint(0, 100, num_students)\n",
    "attendance = np.random.randint(0, 100, num_students)\n",
    "\n",
    "# Assuming the grade is a weighted average of test scores, homework, and attendance\n",
    "weights = [0.5, 0.3, 0.2]\n",
    "grades = np.round(np.dot(np.column_stack((test_scores, homework_scores, attendance)), weights))\n",
    "\n",
    "# Create a DataFrame to hold the data\n",
    "data = pd.DataFrame({'Test Scores': test_scores, 'Homework Scores': homework_scores,\n",
    "                     'Attendance': attendance, 'Grade': grades})\n",
    "\n",
    "# Data Preprocessing\n",
    "X = data[['Test Scores', 'Homework Scores', 'Attendance']]\n",
    "y = data['Grade']\n",
    "\n",
    "# Normalize the features to a range between 0 and 1\n",
    "#scaler = MinMaxScaler()\n",
    "#X_normalized = scaler.fit_transform(X)\n",
    "\n",
    "# Split the data into training and testing sets\n",
    "X_train, X_test, y_train, y_test = train_test_split(X, y, test_size=0.2, random_state=42)\n",
    "\n",
    "# Build the Neural Network\n",
    "model = keras.Sequential([\n",
    "    layers.Dense(64, activation='relu', input_shape=(3,)),\n",
    "    layers.Dense(32, activation='relu'),\n",
    "    layers.Dense(1)  # Output layer with no activation for regression\n",
    "])\n",
    "\n",
    "# Compile the model\n",
    "model.compile(optimizer='adam', loss='mse')\n",
    "\n",
    "# Train the model\n",
    "history = model.fit(X_train, y_train, epochs=100, batch_size=32, validation_split=0.2)\n",
    "\n",
    "# Evaluate the model on the test data\n",
    "test_loss = model.evaluate(X_test, y_test)\n",
    "#print(\"Test Loss:\", test_loss)\n"
   ]
  },
  {
   "cell_type": "code",
   "execution_count": 4,
   "metadata": {},
   "outputs": [
    {
     "name": "stdout",
     "output_type": "stream",
     "text": [
      "     Test Scores  Homework Scores  Attendance\n",
      "203           61                7          35\n",
      "266           41               47          52\n",
      "152           94               16          38\n",
      "9             58               35          42\n",
      "233           45               57          55\n"
     ]
    }
   ],
   "source": [
    "print(X_test[:5])"
   ]
  },
  {
   "cell_type": "code",
   "execution_count": 7,
   "metadata": {},
   "outputs": [
    {
     "name": "stdout",
     "output_type": "stream",
     "text": [
      "1/1 [==============================] - 0s 109ms/step\n"
     ]
    },
    {
     "data": {
      "text/plain": [
       "array([[39.565784],\n",
       "       [45.607185],\n",
       "       [59.405148],\n",
       "       [47.83143 ],\n",
       "       [50.874428]], dtype=float32)"
      ]
     },
     "execution_count": 7,
     "metadata": {},
     "output_type": "execute_result"
    }
   ],
   "source": [
    "model.predict(X_test[:5])"
   ]
  },
  {
   "cell_type": "code",
   "execution_count": null,
   "metadata": {},
   "outputs": [],
   "source": [
    "import numpy as np\n",
    "import pandas as pd\n",
    "from sklearn.model_selection import train_test_split\n",
    "from sklearn.preprocessing import MinMaxScaler\n",
    "from tensorflow import keras\n",
    "from tensorflow.keras import layers\n",
    "\n",
    "# Generate synthetic student data (same as before)\n",
    "\n",
    "# ... (Same code as before)\n",
    "\n",
    "# Create the neural network model\n",
    "model = keras.Sequential([\n",
    "    layers.Dense(64, activation='relu', input_shape=(3,)),\n",
    "    layers.Dense(32, activation='relu'),\n",
    "    layers.Dense(1)  # Output layer with no activation for regression\n",
    "])\n",
    "\n",
    "# Compile the model\n",
    "model.compile(optimizer='adam', loss='mse')\n",
    "\n",
    "# Data Preprocessing (same as before)\n",
    "\n",
    "# ... (Same code as before)\n",
    "\n",
    "# Split the data into training and testing sets (same as before)\n",
    "\n",
    "# ... (Same code as before)\n",
    "\n",
    "# Train the model\n",
    "model.fit(X_train, y_train, epochs=100, batch_size=32, validation_split=0.2)\n",
    "\n",
    "# Evaluate the model on the test data (same as before)\n",
    "\n",
    "# ... (Same code as before)\n",
    "\n",
    "# Make Predictions using the trained model\n",
    "new_test_scores = np.array([85, 70, 90])  # Example new student's test scores\n",
    "new_homework_scores = np.array([80, 90, 75])  # Example new student's homework scores\n",
    "new_attendance = np.array([95, 85, 80])  # Example new student's attendance\n",
    "\n",
    "# Normalize the new input data using the same scaler used before\n",
    "new_data = np.column_stack((new_test_scores, new_homework_scores, new_attendance))\n",
    "new_data_normalized = scaler.transform(new_data)\n",
    "\n",
    "# Make the prediction\n",
    "predicted_grade = model.predict(new_data_normalized)\n",
    "\n",
    "#new_values = np.array([[0.3, 0.9, 1.0]])\n",
    "#model.predict(new_values)\n",
    "\n",
    "print(\"Predicted Grade:\", predicted_grade[0][0])\n"
   ]
  }
 ],
 "metadata": {
  "kernelspec": {
   "display_name": "Python 3",
   "language": "python",
   "name": "python3"
  },
  "language_info": {
   "codemirror_mode": {
    "name": "ipython",
    "version": 3
   },
   "file_extension": ".py",
   "mimetype": "text/x-python",
   "name": "python",
   "nbconvert_exporter": "python",
   "pygments_lexer": "ipython3",
   "version": "3.11.4"
  },
  "orig_nbformat": 4
 },
 "nbformat": 4,
 "nbformat_minor": 2
}
