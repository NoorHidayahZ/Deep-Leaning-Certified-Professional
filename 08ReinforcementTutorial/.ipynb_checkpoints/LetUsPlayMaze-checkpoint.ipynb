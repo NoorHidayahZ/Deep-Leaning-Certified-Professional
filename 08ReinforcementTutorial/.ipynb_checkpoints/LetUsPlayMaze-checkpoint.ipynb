{
 "cells": [
  {
   "cell_type": "code",
   "execution_count": 3,
   "id": "4a759cae",
   "metadata": {},
   "outputs": [],
   "source": [
    "import gym\n",
    "import numpy as np\n",
    "import matplotlib.pyplot as plt\n",
    "from envs import Maze\n",
    "from IPython import display"
   ]
  },
  {
   "cell_type": "code",
   "execution_count": null,
   "id": "9560148e",
   "metadata": {},
   "outputs": [],
   "source": [
    "# instance of the Maze class which is inside the envs.py file\n",
    "env = Maze()"
   ]
  },
  {
   "cell_type": "code",
   "execution_count": null,
   "id": "0e0d3b19",
   "metadata": {},
   "outputs": [],
   "source": [
    "def show_board():\n",
    "    frame = env.render(mode='rgb_array')\n",
    "    plt.axis('off')\n",
    "    plt.title(f\"State: {initial_state}\")\n",
    "    plt.imshow(frame)"
   ]
  },
  {
   "cell_type": "code",
   "execution_count": null,
   "id": "c8842dab",
   "metadata": {},
   "outputs": [],
   "source": [
    "# let us start interacting with environment\n",
    "initial_state = env.reset()"
   ]
  },
  {
   "cell_type": "code",
   "execution_count": null,
   "id": "c581701a",
   "metadata": {},
   "outputs": [],
   "source": [
    "show_board()"
   ]
  },
  {
   "cell_type": "code",
   "execution_count": null,
   "id": "792faa9e",
   "metadata": {},
   "outputs": [],
   "source": [
    "action = 2\n",
    "next_state, reward, done, info = env.step(action)\n",
    "show_board()\n",
    "print(\"Current State:\", next_state, \"Reward:\", reward, \"Done:\", done)"
   ]
  },
  {
   "cell_type": "code",
   "execution_count": null,
   "id": "25f282a6",
   "metadata": {},
   "outputs": [],
   "source": [
    "action = 2\n",
    "next_state, reward, done, info = env.step(action)\n",
    "show_board()\n",
    "print(\"Current State:\", next_state, \"Reward:\", reward, \"Done:\", done)"
   ]
  },
  {
   "cell_type": "code",
   "execution_count": null,
   "id": "a4da9260",
   "metadata": {},
   "outputs": [],
   "source": [
    "action = 2\n",
    "next_state, reward, done, info = env.step(action)\n",
    "show_board()\n",
    "print(\"Current State:\", next_state, \"Reward:\", reward, \"Done:\", done)"
   ]
  },
  {
   "cell_type": "code",
   "execution_count": null,
   "id": "fde0c52d",
   "metadata": {},
   "outputs": [],
   "source": [
    "action = 2\n",
    "next_state, reward, done, info = env.step(action)\n",
    "show_board()\n",
    "print(\"Current State:\", next_state, \"Reward:\", reward, \"Done:\", done)"
   ]
  },
  {
   "cell_type": "code",
   "execution_count": null,
   "id": "9cdb42eb",
   "metadata": {},
   "outputs": [],
   "source": [
    "action = 1\n",
    "next_state, reward, done, info = env.step(action)\n",
    "show_board()\n",
    "print(\"Current State:\", next_state, \"Reward:\", reward, \"Done:\", done)"
   ]
  },
  {
   "cell_type": "code",
   "execution_count": null,
   "id": "e0a9196e",
   "metadata": {},
   "outputs": [],
   "source": [
    "action = 1\n",
    "next_state, reward, done, info = env.step(action)\n",
    "show_board()\n",
    "print(\"Current State:\", next_state, \"Reward:\", reward, \"Done:\", done)"
   ]
  },
  {
   "cell_type": "code",
   "execution_count": null,
   "id": "0e78f8f4",
   "metadata": {},
   "outputs": [],
   "source": [
    "action = 0\n",
    "next_state, reward, done, info = env.step(action)\n",
    "show_board()\n",
    "print(\"Current State:\", next_state, \"Reward:\", reward, \"Done:\", done)"
   ]
  },
  {
   "cell_type": "code",
   "execution_count": null,
   "id": "2a3f3167",
   "metadata": {},
   "outputs": [],
   "source": [
    "action = 1\n",
    "next_state, reward, done, info = env.step(action)\n",
    "show_board()\n",
    "print(\"Current State:\", next_state, \"Reward:\", reward, \"Done:\", done)"
   ]
  },
  {
   "cell_type": "code",
   "execution_count": null,
   "id": "93bf692f",
   "metadata": {},
   "outputs": [],
   "source": [
    "action = 1\n",
    "next_state, reward, done, info = env.step(action)\n",
    "show_board()\n",
    "print(\"Current State:\", next_state, \"Reward:\", reward, \"Done:\", done)"
   ]
  },
  {
   "cell_type": "code",
   "execution_count": null,
   "id": "e62c7512",
   "metadata": {},
   "outputs": [],
   "source": [
    "action = 2\n",
    "next_state, reward, done, info = env.step(action)\n",
    "show_board()\n",
    "print(\"Current State:\", next_state, \"Reward:\", reward, \"Done:\", done)"
   ]
  },
  {
   "cell_type": "code",
   "execution_count": null,
   "id": "57a464cd",
   "metadata": {},
   "outputs": [],
   "source": [
    "env.reset()\n",
    "done = False\n",
    "img = plt.imshow(env.render(mode='rgb_array'))"
   ]
  },
  {
   "cell_type": "code",
   "execution_count": null,
   "id": "0d3b8269",
   "metadata": {},
   "outputs": [],
   "source": [
    "def random_policy():\n",
    "    return np.array([0.25] * 4)"
   ]
  },
  {
   "cell_type": "code",
   "execution_count": null,
   "id": "9b2f3143",
   "metadata": {},
   "outputs": [],
   "source": [
    "action_probabilities = random_policy()"
   ]
  },
  {
   "cell_type": "code",
   "execution_count": 2,
   "id": "68381fa0",
   "metadata": {},
   "outputs": [
    {
     "ename": "NameError",
     "evalue": "name 'done' is not defined",
     "output_type": "error",
     "traceback": [
      "\u001b[1;31m---------------------------------------------------------------------------\u001b[0m",
      "\u001b[1;31mNameError\u001b[0m                                 Traceback (most recent call last)",
      "Cell \u001b[1;32mIn[2], line 1\u001b[0m\n\u001b[1;32m----> 1\u001b[0m \u001b[38;5;28;01mwhile\u001b[39;00m \u001b[38;5;129;01mnot\u001b[39;00m \u001b[43mdone\u001b[49m:\n\u001b[0;32m      2\u001b[0m     action \u001b[38;5;241m=\u001b[39m np\u001b[38;5;241m.\u001b[39mrandom\u001b[38;5;241m.\u001b[39mchoice([\u001b[38;5;241m0\u001b[39m, \u001b[38;5;241m1\u001b[39m, \u001b[38;5;241m2\u001b[39m, \u001b[38;5;241m3\u001b[39m], \u001b[38;5;241m1\u001b[39m, p\u001b[38;5;241m=\u001b[39maction_probabilities)\n\u001b[0;32m      3\u001b[0m     next_state, reward, done, info \u001b[38;5;241m=\u001b[39m env\u001b[38;5;241m.\u001b[39mstep(action)\n",
      "\u001b[1;31mNameError\u001b[0m: name 'done' is not defined"
     ]
    }
   ],
   "source": [
    "done = False\n",
    "while not done:\n",
    "    action = np.random.choice([0, 1, 2, 3], 1, p=action_probabilities)\n",
    "    next_state, reward, done, info = env.step(action)\n",
    "    img.set_data(env.render(mode='rgb_array'))\n",
    "    plt.axis('off')\n",
    "    display.display(plt.gcf())\n",
    "    display.clear_output(wait=True)\n",
    "env.close()"
   ]
  },
  {
   "cell_type": "code",
   "execution_count": null,
   "id": "e0d688b2",
   "metadata": {},
   "outputs": [],
   "source": []
  },
  {
   "cell_type": "code",
   "execution_count": null,
   "id": "90abc639",
   "metadata": {},
   "outputs": [],
   "source": []
  }
 ],
 "metadata": {
  "kernelspec": {
   "display_name": "Python 3 (ipykernel)",
   "language": "python",
   "name": "python3"
  },
  "language_info": {
   "codemirror_mode": {
    "name": "ipython",
    "version": 3
   },
   "file_extension": ".py",
   "mimetype": "text/x-python",
   "name": "python",
   "nbconvert_exporter": "python",
   "pygments_lexer": "ipython3",
   "version": "3.11.2"
  }
 },
 "nbformat": 4,
 "nbformat_minor": 5
}
